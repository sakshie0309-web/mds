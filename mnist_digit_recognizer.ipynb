{
  "cells": [
    {
      "cell_type": "code",
      "execution_count": 1,
      "metadata": {
        "_cell_guid": "b1076dfc-b9ad-4769-8c92-a6c4dae69d19",
        "_uuid": "8f2839f25d086af736a60e9eeb907d3b93b6e0e5",
        "execution": {
          "iopub.execute_input": "2024-11-11T04:56:45.378378Z",
          "iopub.status.busy": "2024-11-11T04:56:45.377657Z",
          "iopub.status.idle": "2024-11-11T04:56:46.352229Z",
          "shell.execute_reply": "2024-11-11T04:56:46.351226Z",
          "shell.execute_reply.started": "2024-11-11T04:56:45.378333Z"
        },
        "trusted": true,
        "id": "h9Qe__Clwjnp"
      },
      "outputs": [],
      "source": [
        "# This Python 3 environment comes with many helpful analytics libraries installed\n",
        "# It is defined by the kaggle/python Docker image: https://github.com/kaggle/docker-python\n",
        "# For example, here's several helpful packages to load\n",
        "\n",
        "import numpy as np # linear algebra\n",
        "import pandas as pd # data processing, CSV file I/O (e.g. pd.read_csv)\n",
        "\n",
        "# Input data files are available in the read-only \"../input/\" directory\n",
        "# For example, running this (by clicking run or pressing Shift+Enter) will list all files under the input directory\n",
        "\n",
        "import os\n",
        "for dirname, _, filenames in os.walk('/kaggle/input'):\n",
        "    for filename in filenames:\n",
        "        print(os.path.join(dirname, filename))\n",
        "\n",
        "# You can write up to 20GB to the current directory (/kaggle/working/) that gets preserved as output when you create a version using \"Save & Run All\"\n",
        "# You can also write temporary files to /kaggle/temp/, but they won't be saved outside of the current session"
      ]
    },
    {
      "cell_type": "code",
      "execution_count": null,
      "metadata": {
        "execution": {
          "iopub.execute_input": "2024-11-11T04:58:49.755552Z",
          "iopub.status.busy": "2024-11-11T04:58:49.754820Z",
          "iopub.status.idle": "2024-11-11T04:59:02.423082Z",
          "shell.execute_reply": "2024-11-11T04:59:02.421988Z",
          "shell.execute_reply.started": "2024-11-11T04:58:49.755508Z"
        },
        "trusted": true,
        "id": "lhMnKnwwwjnr"
      },
      "outputs": [],
      "source": [
        "import numpy as np\n",
        "import pandas as pd\n",
        "import matplotlib.pyplot as plt\n",
        "import seaborn as sns\n",
        "from sklearn.model_selection import train_test_split\n",
        "from sklearn.neighbors import KNeighborsClassifier\n",
        "from sklearn.svm import SVC\n",
        "from sklearn.metrics import accuracy_score, classification_report, confusion_matrix\n",
        "import tensorflow as tf\n",
        "\n",
        "# For loading the MNIST dataset from Keras\n",
        "from tensorflow.keras.datasets import mnist"
      ]
    },
    {
      "cell_type": "code",
      "execution_count": null,
      "metadata": {
        "trusted": true,
        "colab": {
          "base_uri": "https://localhost:8080/"
        },
        "id": "LUM7EkI2wjns",
        "outputId": "05956119-517e-4acd-fe2f-42605cdc0186"
      },
      "outputs": [
        {
          "output_type": "stream",
          "name": "stdout",
          "text": [
            "Training data shape: (60000, 28, 28)\n",
            "Test data shape: (10000, 28, 28)\n"
          ]
        }
      ],
      "source": [
        "(X_train, y_train), (X_test, y_test) = mnist.load_data()\n",
        "\n",
        "print(f'Training data shape: {X_train.shape}')\n",
        "print(f'Test data shape: {X_test.shape}')"
      ]
    },
    {
      "cell_type": "code",
      "execution_count": null,
      "metadata": {
        "trusted": true,
        "id": "K-PNSDYBwjns"
      },
      "outputs": [],
      "source": [
        "# train = pd.read_csv('../input/digit-recognizer/train.csv')\n",
        "# test = pd.read_csv('../input/digit-recognizer/test.csv')"
      ]
    },
    {
      "cell_type": "code",
      "execution_count": null,
      "metadata": {
        "execution": {
          "iopub.execute_input": "2024-11-10T20:11:30.311528Z",
          "iopub.status.busy": "2024-11-10T20:11:30.311068Z",
          "iopub.status.idle": "2024-11-10T20:11:31.068995Z",
          "shell.execute_reply": "2024-11-10T20:11:31.067852Z",
          "shell.execute_reply.started": "2024-11-10T20:11:30.311486Z"
        },
        "trusted": true,
        "colab": {
          "base_uri": "https://localhost:8080/",
          "height": 402
        },
        "id": "qD6Y4TD3wjns",
        "outputId": "7f0893e4-ab1c-42e6-c7c1-3a19cc7c913d"
      },
      "outputs": [
        {
          "output_type": "display_data",
          "data": {
            "text/plain": [
              "<Figure size 1000x500 with 10 Axes>"
            ],
            "image/png": "[encoded data removed]"
          },
          "metadata": {}
        }
      ],
      "source": [
        "plt.figure(figsize=(10, 5))\n",
        "for i in range(10):\n",
        "    plt.subplot(2, 5, i + 1)\n",
        "    plt.imshow(X_train[i], cmap='gray')\n",
        "    plt.title(f\"Label: {y_train[i]}\")\n",
        "    plt.axis('off')\n",
        "plt.show()"
      ]
    },
    {
      "cell_type": "code",
      "execution_count": null,
      "metadata": {
        "execution": {
          "iopub.execute_input": "2024-11-10T20:12:55.632261Z",
          "iopub.status.busy": "2024-11-10T20:12:55.631740Z",
          "iopub.status.idle": "2024-11-10T20:12:55.848670Z",
          "shell.execute_reply": "2024-11-10T20:12:55.847721Z",
          "shell.execute_reply.started": "2024-11-10T20:12:55.632214Z"
        },
        "trusted": true,
        "colab": {
          "base_uri": "https://localhost:8080/"
        },
        "id": "3zeg9d6jwjnt",
        "outputId": "ab8dbe04-8f71-46e1-f8cf-d06ccfad37a5"
      },
      "outputs": [
        {
          "output_type": "stream",
          "name": "stdout",
          "text": [
            "Flattened training data shape: (60000, 784)\n",
            "Flattened test data shape: (10000, 784)\n"
          ]
        }
      ],
      "source": [
        "X_train_flat = X_train.reshape(X_train.shape[0], -1) / 255.0\n",
        "X_test_flat = X_test.reshape(X_test.shape[0], -1) / 255.0\n",
        "\n",
        "print(f'Flattened training data shape: {X_train_flat.shape}')\n",
        "print(f'Flattened test data shape: {X_test_flat.shape}')"
      ]
    },
    {
      "cell_type": "code",
      "execution_count": null,
      "metadata": {
        "execution": {
          "iopub.execute_input": "2024-11-10T20:13:13.542607Z",
          "iopub.status.busy": "2024-11-10T20:13:13.542150Z",
          "iopub.status.idle": "2024-11-10T20:13:13.738596Z",
          "shell.execute_reply": "2024-11-10T20:13:13.737167Z",
          "shell.execute_reply.started": "2024-11-10T20:13:13.542563Z"
        },
        "trusted": true,
        "colab": {
          "base_uri": "https://localhost:8080/"
        },
        "id": "QYycZ1Xvwjnt",
        "outputId": "39905ab7-4f37-45ee-ae6e-868e0ce4087a"
      },
      "outputs": [
        {
          "output_type": "stream",
          "name": "stdout",
          "text": [
            "Training set shape: (48000, 784)\n",
            "Validation set shape: (12000, 784)\n"
          ]
        }
      ],
      "source": [
        "X_train_split, X_val, y_train_split, y_val = train_test_split(X_train_flat, y_train, test_size=0.2, random_state=42)\n",
        "\n",
        "print(f'Training set shape: {X_train_split.shape}')\n",
        "print(f'Validation set shape: {X_val.shape}')"
      ]
    },
    {
      "cell_type": "code",
      "execution_count": null,
      "metadata": {
        "execution": {
          "iopub.execute_input": "2024-11-10T20:13:41.124207Z",
          "iopub.status.busy": "2024-11-10T20:13:41.123220Z",
          "iopub.status.idle": "2024-11-10T20:13:59.484478Z",
          "shell.execute_reply": "2024-11-10T20:13:59.483307Z",
          "shell.execute_reply.started": "2024-11-10T20:13:41.124141Z"
        },
        "trusted": true,
        "colab": {
          "base_uri": "https://localhost:8080/",
          "height": 773
        },
        "id": "0fgPIy2pwjnt",
        "outputId": "810bfe54-14f3-4a7a-ec06-b9ca4308e906"
      },
      "outputs": [
        {
          "output_type": "stream",
          "name": "stdout",
          "text": [
            "KNN Validation Accuracy: 0.9664\n",
            "              precision    recall  f1-score   support\n",
            "\n",
            "           0       0.98      0.99      0.98      1175\n",
            "           1       0.94      1.00      0.97      1322\n",
            "           2       0.98      0.95      0.97      1174\n",
            "           3       0.96      0.96      0.96      1219\n",
            "           4       0.97      0.96      0.97      1176\n",
            "           5       0.96      0.97      0.96      1104\n",
            "           6       0.98      0.99      0.99      1177\n",
            "           7       0.96      0.97      0.96      1299\n",
            "           8       0.99      0.91      0.95      1160\n",
            "           9       0.95      0.95      0.95      1194\n",
            "\n",
            "    accuracy                           0.97     12000\n",
            "   macro avg       0.97      0.97      0.97     12000\n",
            "weighted avg       0.97      0.97      0.97     12000\n",
            "\n"
          ]
        },
        {
          "output_type": "display_data",
          "data": {
            "text/plain": [
              "<Figure size 640x480 with 2 Axes>"
            ],
            "image/png": "[encoded data removed]"
          },
          "metadata": {}
        }
      ],
      "source": [
        "knn_model = KNeighborsClassifier(n_neighbors=10)\n",
        "knn_model.fit(X_train_split, y_train_split)\n",
        "\n",
        "y_val_pred_knn = knn_model.predict(X_val)\n",
        "\n",
        "knn_acc = accuracy_score(y_val, y_val_pred_knn)\n",
        "print(f'KNN Validation Accuracy: {knn_acc:.4f}')\n",
        "\n",
        "print(classification_report(y_val, y_val_pred_knn))\n",
        "sns.heatmap(confusion_matrix(y_val, y_val_pred_knn), annot=True, fmt='d', cmap='Blues')\n",
        "plt.title(\"KNN Confusion Matrix\")\n",
        "plt.show()"
      ]
    },
    {
      "cell_type": "code",
      "execution_count": 2,
      "metadata": {
        "execution": {
          "iopub.execute_input": "2024-11-10T20:15:52.441842Z",
          "iopub.status.busy": "2024-11-10T20:15:52.441350Z",
          "iopub.status.idle": "2024-11-10T20:20:02.713190Z",
          "shell.execute_reply": "2024-11-10T20:20:02.711994Z",
          "shell.execute_reply.started": "2024-11-10T20:15:52.441796Z"
        },
        "trusted": true,
        "colab": {
          "base_uri": "https://localhost:8080/",
          "height": 216
        },
        "id": "NKHmNXrDwjnt",
        "outputId": "e2bf069d-d1a1-45eb-8266-f77c6abd4f82"
      },
      "outputs": [
        {
          "output_type": "error",
          "ename": "NameError",
          "evalue": "name 'SVC' is not defined",
          "traceback": [
            "\u001b[0;31m---------------------------------------------------------------------------\u001b[0m",
            "\u001b[0;31mNameError\u001b[0m                                 Traceback (most recent call last)",
            "\u001b[0;32m<ipython-input-2-1086a884a1a4>\u001b[0m in \u001b[0;36m<cell line: 1>\u001b[0;34m()\u001b[0m\n\u001b[0;32m----> 1\u001b[0;31m \u001b[0msvm_model\u001b[0m \u001b[0;34m=\u001b[0m \u001b[0mSVC\u001b[0m\u001b[0;34m(\u001b[0m\u001b[0mkernel\u001b[0m\u001b[0;34m=\u001b[0m\u001b[0;34m'rdf'\u001b[0m\u001b[0;34m)\u001b[0m\u001b[0;34m\u001b[0m\u001b[0;34m\u001b[0m\u001b[0m\n\u001b[0m\u001b[1;32m      2\u001b[0m \u001b[0msvm_model\u001b[0m\u001b[0;34m.\u001b[0m\u001b[0mfit\u001b[0m\u001b[0;34m(\u001b[0m\u001b[0mX_train_split\u001b[0m\u001b[0;34m,\u001b[0m \u001b[0my_train_split\u001b[0m\u001b[0;34m)\u001b[0m\u001b[0;34m\u001b[0m\u001b[0;34m\u001b[0m\u001b[0m\n\u001b[1;32m      3\u001b[0m \u001b[0;34m\u001b[0m\u001b[0m\n\u001b[1;32m      4\u001b[0m \u001b[0my_val_pred_svm\u001b[0m \u001b[0;34m=\u001b[0m \u001b[0msvm_model\u001b[0m\u001b[0;34m.\u001b[0m\u001b[0mpredict\u001b[0m\u001b[0;34m(\u001b[0m\u001b[0mX_val\u001b[0m\u001b[0;34m)\u001b[0m\u001b[0;34m\u001b[0m\u001b[0;34m\u001b[0m\u001b[0m\n\u001b[1;32m      5\u001b[0m \u001b[0;34m\u001b[0m\u001b[0m\n",
            "\u001b[0;31mNameError\u001b[0m: name 'SVC' is not defined"
          ]
        }
      ],
      "source": [
        "svm_model = SVC(kernel='rdf')\n",
        "svm_model.fit(X_train_split, y_train_split)\n",
        "\n",
        "y_val_pred_svm = svm_model.predict(X_val)\n",
        "\n",
        "svm_acc = accuracy_score(y_val, y_val_pred_svm)\n",
        "print(f'SVM Validation Accuracy: {svm_acc:.4f}')\n",
        "\n",
        "print(classification_report(y_val, y_val_pred_svm))\n",
        "sns.heatmap(confusion_matrix(y_val, y_val_pred_svm), annot=True, fmt='d', cmap='Greens')\n",
        "plt.title(\"SVM Confusion Matrix\")\n",
        "plt.show()"
      ]
    },
    {
      "cell_type": "code",
      "execution_count": null,
      "metadata": {
        "execution": {
          "iopub.execute_input": "2024-11-10T20:28:35.863171Z",
          "iopub.status.busy": "2024-11-10T20:28:35.862623Z",
          "iopub.status.idle": "2024-11-10T20:29:26.057782Z",
          "shell.execute_reply": "2024-11-10T20:29:26.056544Z",
          "shell.execute_reply.started": "2024-11-10T20:28:35.863126Z"
        },
        "trusted": true,
        "colab": {
          "base_uri": "https://localhost:8080/",
          "height": 180
        },
        "id": "y8aTYDYDwjnt",
        "outputId": "0656407f-b837-452f-9eea-1bc8e14daaed"
      },
      "outputs": [
        {
          "output_type": "error",
          "ename": "NameError",
          "evalue": "name 'svm_model' is not defined",
          "traceback": [
            "\u001b[0;31m---------------------------------------------------------------------------\u001b[0m",
            "\u001b[0;31mNameError\u001b[0m                                 Traceback (most recent call last)",
            "\u001b[0;32m<ipython-input-1-5fea8eeb30c2>\u001b[0m in \u001b[0;36m<cell line: 1>\u001b[0;34m()\u001b[0m\n\u001b[0;32m----> 1\u001b[0;31m \u001b[0my_test_pred_svm\u001b[0m \u001b[0;34m=\u001b[0m \u001b[0msvm_model\u001b[0m\u001b[0;34m.\u001b[0m\u001b[0mpredict\u001b[0m\u001b[0;34m(\u001b[0m\u001b[0mX_test_flat\u001b[0m\u001b[0;34m)\u001b[0m\u001b[0;34m\u001b[0m\u001b[0;34m\u001b[0m\u001b[0m\n\u001b[0m\u001b[1;32m      2\u001b[0m \u001b[0mtest_acc_svm\u001b[0m \u001b[0;34m=\u001b[0m \u001b[0maccuracy_score\u001b[0m\u001b[0;34m(\u001b[0m\u001b[0my_test\u001b[0m\u001b[0;34m,\u001b[0m \u001b[0my_test_pred_svm\u001b[0m\u001b[0;34m)\u001b[0m\u001b[0;34m\u001b[0m\u001b[0;34m\u001b[0m\u001b[0m\n\u001b[1;32m      3\u001b[0m \u001b[0mprint\u001b[0m\u001b[0;34m(\u001b[0m\u001b[0;34mf'SVM Test Accuracy: {test_acc_svm:.4f}'\u001b[0m\u001b[0;34m)\u001b[0m\u001b[0;34m\u001b[0m\u001b[0;34m\u001b[0m\u001b[0m\n",
            "\u001b[0;31mNameError\u001b[0m: name 'svm_model' is not defined"
          ]
        }
      ],
      "source": [
        "y_test_pred_svm = svm_model.predict(X_test_flat)\n",
        "test_acc_svm = accuracy_score(y_test, y_test_pred_svm)\n",
        "print(f'SVM Test Accuracy: {test_acc_svm:.4f}')"
      ]
    },
    {
      "cell_type": "code",
      "execution_count": null,
      "metadata": {
        "id": "V5_Jytfswjnu"
      },
      "outputs": [],
      "source": []
    }
  ],
  "metadata": {
    "kaggle": {
      "accelerator": "none",
      "dataSources": [
        {
          "databundleVersionId": 861823,
          "sourceId": 3004,
          "sourceType": "competition"
        }
      ],
      "dockerImageVersionId": 30786,
      "isGpuEnabled": false,
      "isInternetEnabled": true,
      "language": "python",
      "sourceType": "notebook"
    },
    "kernelspec": {
      "display_name": "Python 3",
      "language": "python",
      "name": "python3"
    },
    "language_info": {
      "codemirror_mode": {
        "name": "ipython",
        "version": 3
      },
      "file_extension": ".py",
      "mimetype": "text/x-python",
      "name": "python",
      "nbconvert_exporter": "python",
      "pygments_lexer": "ipython3",
      "version": "3.13.0"
    },
    "colab": {
      "provenance": []
    }
  },
  "nbformat": 4,
  "nbformat_minor": 0
}